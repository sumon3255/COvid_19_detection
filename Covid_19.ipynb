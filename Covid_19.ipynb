{
 "cells": [
  {
   "cell_type": "code",
   "execution_count": 1,
   "id": "2424b8af",
   "metadata": {},
   "outputs": [],
   "source": [
    "Train_Path = \"CovidDataset/Train\"\n",
    "Test_Path = \"CovidDataset/Val\""
   ]
  },
  {
   "cell_type": "code",
   "execution_count": 2,
   "id": "e2292229",
   "metadata": {},
   "outputs": [],
   "source": [
    "import numpy as np\n",
    "import matplotlib.pyplot as plt\n",
    "import keras\n",
    "from keras.layers import *\n",
    "from keras.models import *\n",
    "from keras.preprocessing import image\n"
   ]
  },
  {
   "cell_type": "code",
   "execution_count": 3,
   "id": "06fe3187",
   "metadata": {},
   "outputs": [
    {
     "name": "stdout",
     "output_type": "stream",
     "text": [
      "Found 224 images belonging to 2 classes.\n"
     ]
    }
   ],
   "source": [
    "train_data_gen = image.ImageDataGenerator(rescale= 1./255,horizontal_flip= True,zoom_range= 0.2, shear_range= 0.2) \n",
    "#Do some augmentation on the image shear and zoom allow random crops\n",
    "\n",
    "#the call a method object we do binary classification targetsize reshape our images\n",
    "train = train_data_gen.flow_from_directory(directory= Train_Path , target_size=(256,256),batch_size=16, class_mode='binary')"
   ]
  },
  {
   "cell_type": "code",
   "execution_count": 4,
   "id": "4b4539e5",
   "metadata": {},
   "outputs": [
    {
     "data": {
      "text/plain": [
       "{'Covid': 0, 'Normal': 1}"
      ]
     },
     "execution_count": 4,
     "metadata": {},
     "output_type": "execute_result"
    }
   ],
   "source": [
    "train.class_indices"
   ]
  },
  {
   "cell_type": "code",
   "execution_count": 5,
   "id": "66565497",
   "metadata": {},
   "outputs": [
    {
     "name": "stdout",
     "output_type": "stream",
     "text": [
      "Found 60 images belonging to 2 classes.\n"
     ]
    }
   ],
   "source": [
    "test_data_gen = image.ImageDataGenerator(rescale= 1./255) #we are not argument in this case\n",
    "\n",
    "test = test_data_gen.flow_from_directory(directory= Test_Path , target_size=(256,256),batch_size=16, class_mode='binary')"
   ]
  },
  {
   "cell_type": "code",
   "execution_count": 6,
   "id": "9cf5dbfe",
   "metadata": {},
   "outputs": [],
   "source": [
    "# #CNN Based model in keras #change no of filters\n",
    "model = Sequential() #initial sequential\n",
    "model.add(Conv2D(filters = 32, kernel_size=(3,3),activation=\"relu\",input_shape = (256,256,3))) #3 channel as rgb image\n",
    "model.add(Conv2D(filters=64, kernel_size=(3,3),activation=\"relu\")) #relu means non linearity #increase no of filters\n",
    "model.add(MaxPooling2D())\n",
    "model.add(Dropout(0.25))\n",
    "\n",
    "#similarly add cn layer\n",
    "model.add(Conv2D(filters=64,kernel_size=(3,3),activation=\"relu\"))\n",
    "model.add(MaxPooling2D())\n",
    "model.add(Dropout(0.25))\n",
    "\n",
    "model.add(Conv2D(filters=128, kernel_size=(3,3),activation=\"relu\"))\n",
    "model.add(MaxPooling2D())\n",
    "model.add(Dropout(0.25))\n",
    "\n",
    "model.add(Flatten())\n",
    "model.add(Dense(64,activation=\"relu\"))\n",
    "model.add(Dropout(0.50))\n",
    "model.add(Dense(units=1,activation=\"sigmoid\"))\n",
    "\n",
    "model.compile(loss=keras.losses.binary_crossentropy,optimizer = \"adam\",metrics = ['acc']) #pass a loss"
   ]
  },
  {
   "cell_type": "code",
   "execution_count": 7,
   "id": "f2514fec",
   "metadata": {},
   "outputs": [
    {
     "name": "stdout",
     "output_type": "stream",
     "text": [
      "Model: \"sequential\"\n",
      "_________________________________________________________________\n",
      "Layer (type)                 Output Shape              Param #   \n",
      "=================================================================\n",
      "conv2d (Conv2D)              (None, 254, 254, 32)      896       \n",
      "_________________________________________________________________\n",
      "conv2d_1 (Conv2D)            (None, 252, 252, 64)      18496     \n",
      "_________________________________________________________________\n",
      "max_pooling2d (MaxPooling2D) (None, 126, 126, 64)      0         \n",
      "_________________________________________________________________\n",
      "dropout (Dropout)            (None, 126, 126, 64)      0         \n",
      "_________________________________________________________________\n",
      "conv2d_2 (Conv2D)            (None, 124, 124, 64)      36928     \n",
      "_________________________________________________________________\n",
      "max_pooling2d_1 (MaxPooling2 (None, 62, 62, 64)        0         \n",
      "_________________________________________________________________\n",
      "dropout_1 (Dropout)          (None, 62, 62, 64)        0         \n",
      "_________________________________________________________________\n",
      "conv2d_3 (Conv2D)            (None, 60, 60, 128)       73856     \n",
      "_________________________________________________________________\n",
      "max_pooling2d_2 (MaxPooling2 (None, 30, 30, 128)       0         \n",
      "_________________________________________________________________\n",
      "dropout_2 (Dropout)          (None, 30, 30, 128)       0         \n",
      "_________________________________________________________________\n",
      "flatten (Flatten)            (None, 115200)            0         \n",
      "_________________________________________________________________\n",
      "dense (Dense)                (None, 64)                7372864   \n",
      "_________________________________________________________________\n",
      "dropout_3 (Dropout)          (None, 64)                0         \n",
      "_________________________________________________________________\n",
      "dense_1 (Dense)              (None, 1)                 65        \n",
      "=================================================================\n",
      "Total params: 7,503,105\n",
      "Trainable params: 7,503,105\n",
      "Non-trainable params: 0\n",
      "_________________________________________________________________\n"
     ]
    }
   ],
   "source": [
    "model.summary() #no of params increasing"
   ]
  },
  {
   "cell_type": "code",
   "execution_count": 8,
   "id": "82e820cf",
   "metadata": {},
   "outputs": [
    {
     "name": "stdout",
     "output_type": "stream",
     "text": [
      "Epoch 1/10\n",
      "8/8 [==============================] - 25s 3s/step - loss: 1.4870 - acc: 0.5000 - val_loss: 0.6914 - val_acc: 0.5000\n",
      "Epoch 2/10\n",
      "8/8 [==============================] - 24s 3s/step - loss: 0.6746 - acc: 0.6641 - val_loss: 0.6701 - val_acc: 0.8750\n",
      "Epoch 3/10\n",
      "8/8 [==============================] - 24s 3s/step - loss: 0.5993 - acc: 0.6641 - val_loss: 0.4616 - val_acc: 0.9062\n",
      "Epoch 4/10\n",
      "8/8 [==============================] - 23s 3s/step - loss: 0.3918 - acc: 0.8750 - val_loss: 0.3561 - val_acc: 0.9688\n",
      "Epoch 5/10\n",
      "8/8 [==============================] - 30s 4s/step - loss: 0.3819 - acc: 0.8516 - val_loss: 0.2968 - val_acc: 0.9375\n",
      "Epoch 6/10\n",
      "8/8 [==============================] - 23s 3s/step - loss: 0.2897 - acc: 0.8750 - val_loss: 0.2962 - val_acc: 1.0000\n",
      "Epoch 7/10\n",
      "8/8 [==============================] - 27s 3s/step - loss: 0.2952 - acc: 0.8672 - val_loss: 0.1398 - val_acc: 1.0000\n",
      "Epoch 8/10\n",
      "8/8 [==============================] - 24s 3s/step - loss: 0.2273 - acc: 0.9141 - val_loss: 0.5249 - val_acc: 1.0000\n",
      "Epoch 9/10\n",
      "8/8 [==============================] - 28s 3s/step - loss: 0.2373 - acc: 0.9375 - val_loss: 0.1118 - val_acc: 0.9688\n",
      "Epoch 10/10\n",
      "8/8 [==============================] - 23s 3s/step - loss: 0.1838 - acc: 0.9297 - val_loss: 0.2025 - val_acc: 0.9062\n"
     ]
    }
   ],
   "source": [
    "history = model.fit(train,steps_per_epoch=8,epochs=10,validation_steps=2,validation_data=test) #train our model"
   ]
  },
  {
   "cell_type": "code",
   "execution_count": 9,
   "id": "303242e4",
   "metadata": {},
   "outputs": [
    {
     "data": {
      "text/plain": [
       "(1, 256, 256, 3)"
      ]
     },
     "execution_count": 9,
     "metadata": {},
     "output_type": "execute_result"
    }
   ],
   "source": [
    "path =\"img_covid\\covid3.jpeg\"\n",
    "img =image.load_img(path,target_size=(256,256))\n",
    "img = image.img_to_array(img)/255\n",
    "img = np.array([img])\n",
    "img.shape"
   ]
  },
  {
   "cell_type": "code",
   "execution_count": 10,
   "id": "620968de",
   "metadata": {},
   "outputs": [
    {
     "data": {
      "text/plain": [
       "array([[0]])"
      ]
     },
     "execution_count": 10,
     "metadata": {},
     "output_type": "execute_result"
    }
   ],
   "source": [
    "a =model.predict(img) \n",
    "np.round(a).astype(int)"
   ]
  },
  {
   "cell_type": "code",
   "execution_count": null,
   "id": "74588a8e",
   "metadata": {},
   "outputs": [],
   "source": []
  },
  {
   "cell_type": "code",
   "execution_count": 12,
   "id": "414cec98",
   "metadata": {},
   "outputs": [
    {
     "data": {
      "text/plain": [
       "<matplotlib.legend.Legend at 0x23ae694ba30>"
      ]
     },
     "execution_count": 12,
     "metadata": {},
     "output_type": "execute_result"
    },
    {
     "data": {
      "image/png": "[encoded data removed]",
      "text/plain": [
       "<Figure size 432x288 with 1 Axes>"
      ]
     },
     "metadata": {
      "needs_background": "light"
     },
     "output_type": "display_data"
    }
   ],
   "source": [
    "loss_train = history.history['acc']\n",
    "loss_val = history.history['val_acc']\n",
    "epochs = range(1,11)\n",
    "plt.plot(epochs, loss_train, 'g', label='Training accuracy')\n",
    "plt.plot(epochs, loss_val, 'b', label='validation accuracy')\n",
    "plt.title('Training and Validation accuracy')\n",
    "plt.xlabel('Epochs')\n",
    "plt.ylabel('Accuracy')\n",
    "plt.legend()\n"
   ]
  },
  {
   "cell_type": "code",
   "execution_count": 13,
   "id": "e15d406b",
   "metadata": {},
   "outputs": [
    {
     "data": {
      "image/png": "[encoded data removed]",
      "text/plain": [
       "<Figure size 432x288 with 1 Axes>"
      ]
     },
     "metadata": {
      "needs_background": "light"
     },
     "output_type": "display_data"
    }
   ],
   "source": [
    "# summarize history for loss\n",
    "plt.plot(history.history['loss'])\n",
    "plt.plot(history.history['val_loss'])\n",
    "plt.title('model loss')\n",
    "plt.ylabel('loss')\n",
    "plt.xlabel('epoch')\n",
    "plt.legend(['train', 'test'], loc='upper left')\n",
    "plt.show()"
   ]
  },
  {
   "cell_type": "code",
   "execution_count": null,
   "id": "1bd85099",
   "metadata": {},
   "outputs": [],
   "source": []
  }
 ],
 "metadata": {
  "kernelspec": {
   "display_name": "Python 3 (ipykernel)",
   "language": "python",
   "name": "python3"
  },
  "language_info": {
   "codemirror_mode": {
    "name": "ipython",
    "version": 3
   },
   "file_extension": ".py",
   "mimetype": "text/x-python",
   "name": "python",
   "nbconvert_exporter": "python",
   "pygments_lexer": "ipython3",
   "version": "3.9.6"
  }
 },
 "nbformat": 4,
 "nbformat_minor": 5
}
